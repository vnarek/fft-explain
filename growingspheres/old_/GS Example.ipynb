{
 "cells": [
  {
   "cell_type": "code",
   "execution_count": 1,
   "metadata": {},
   "outputs": [],
   "source": [
    "import numpy as np\n",
    "import pandas as pd\n",
    "from sklearn import datasets, ensemble\n",
    "from sklearn.model_selection import train_test_split\n",
    "from matplotlib import pyplot as plt\n",
    "from growingspheres import counterfactuals as cf\n",
    "\n",
    "PATH = ''## To update"
   ]
  },
  {
   "cell_type": "markdown",
   "metadata": {},
   "source": [
    "# Example: Growing Spheres for 1 prediction"
   ]
  },
  {
   "cell_type": "markdown",
   "metadata": {},
   "source": [
    "### 2D Illustrative"
   ]
  },
  {
   "cell_type": "code",
   "execution_count": 2,
   "metadata": {},
   "outputs": [
    {
     "name": "stdout",
     "output_type": "stream",
     "text": [
      " ### Accuracy: 1.0\n"
     ]
    }
   ],
   "source": [
    "import numpy as np\n",
    "import pandas as pd\n",
    "from sklearn import datasets, ensemble, tree\n",
    "from sklearn.model_selection import train_test_split\n",
    "from sklearn.svm import SVC\n",
    "from matplotlib import pyplot as plt\n",
    "\n",
    "X,y = datasets.make_moons(n_samples = 200, shuffle=True, noise=0.05, random_state=0)\n",
    "X = (X.copy() - X.mean(axis=0))/X.std(axis=0)\n",
    "X_train, X_test, y_train, y_test = train_test_split(X, y, test_size=0.3, random_state=0)\n",
    "\n",
    "#clf = ensemble.RandomForestClassifier(n_estimators=200, max_depth=3)\n",
    "clf = SVC(gamma=1, probability=True)\n",
    "#clf = tree.DecisionTreeClassifier(max_depth=6)\n",
    "clf = clf.fit(X_train, y_train)\n",
    "print(' ### Accuracy:', sum(clf.predict(X_test) == y_test)/y_test.shape[0])\n",
    "\n",
    "def plot_classification_contour(X, clf, ax=[0,1]):\n",
    "    ## Inspired by scikit-learn documentation\n",
    "    h = .02  # step size in the mesh\n",
    "    cm = plt.cm.RdBu\n",
    "    x_min, x_max = X[:, ax[0]].min() - .5, X[:, ax[0]].max() + .5\n",
    "    y_min, y_max = X[:, ax[1]].min() - .5, X[:, ax[1]].max() + .5\n",
    "    xx, yy = np.meshgrid(np.arange(x_min, x_max, h), np.arange(y_min, y_max, h))\n",
    "    Z = clf.predict_proba(np.c_[xx.ravel(), yy.ravel()])[:, 1]\n",
    "    Z = Z.reshape(xx.shape)\n",
    "    #plt.sca(ax)\n",
    "    plt.contourf(xx, yy, Z, alpha=.5, cmap=cm)\n"
   ]
  },
  {
   "cell_type": "code",
   "execution_count": 5,
   "metadata": {
    "scrolled": true
   },
   "outputs": [
    {
     "name": "stdout",
     "output_type": "stream",
     "text": [
      "==================================================== 0\n"
     ]
    },
    {
     "ename": "IndexError",
     "evalue": "tuple index out of range",
     "output_type": "error",
     "traceback": [
      "\u001b[0;31m---------------------------------------------------------------------------\u001b[0m",
      "\u001b[0;31mIndexError\u001b[0m                                Traceback (most recent call last)",
      "\u001b[0;32m/var/folders/yk/z4rr9hd95kl7lwp6502rfxcm0000gn/T/ipykernel_13613/2769119995.py\u001b[0m in \u001b[0;36m<module>\u001b[0;34m\u001b[0m\n\u001b[1;32m      5\u001b[0m     \u001b[0mprint\u001b[0m\u001b[0;34m(\u001b[0m\u001b[0;34m'===================================================='\u001b[0m\u001b[0;34m,\u001b[0m \u001b[0mcnt\u001b[0m\u001b[0;34m)\u001b[0m\u001b[0;34m\u001b[0m\u001b[0;34m\u001b[0m\u001b[0m\n\u001b[1;32m      6\u001b[0m     \u001b[0mCF\u001b[0m \u001b[0;34m=\u001b[0m \u001b[0mcf\u001b[0m\u001b[0;34m.\u001b[0m\u001b[0mCounterfactualExplanation\u001b[0m\u001b[0;34m(\u001b[0m\u001b[0mobs\u001b[0m\u001b[0;34m,\u001b[0m \u001b[0mclf\u001b[0m\u001b[0;34m.\u001b[0m\u001b[0mpredict\u001b[0m\u001b[0;34m,\u001b[0m \u001b[0mmethod\u001b[0m\u001b[0;34m=\u001b[0m\u001b[0;34m'GS'\u001b[0m\u001b[0;34m)\u001b[0m\u001b[0;34m\u001b[0m\u001b[0;34m\u001b[0m\u001b[0m\n\u001b[0;32m----> 7\u001b[0;31m     \u001b[0mCF\u001b[0m\u001b[0;34m.\u001b[0m\u001b[0mfit\u001b[0m\u001b[0;34m(\u001b[0m\u001b[0mn_in_layer\u001b[0m\u001b[0;34m=\u001b[0m\u001b[0;36m2000\u001b[0m\u001b[0;34m,\u001b[0m \u001b[0mfirst_radius\u001b[0m\u001b[0;34m=\u001b[0m\u001b[0;36m0.1\u001b[0m\u001b[0;34m,\u001b[0m \u001b[0mdicrease_radius\u001b[0m\u001b[0;34m=\u001b[0m\u001b[0;36m10\u001b[0m\u001b[0;34m,\u001b[0m \u001b[0msparse\u001b[0m\u001b[0;34m=\u001b[0m\u001b[0;32mTrue\u001b[0m\u001b[0;34m,\u001b[0m \u001b[0mverbose\u001b[0m\u001b[0;34m=\u001b[0m\u001b[0;32mTrue\u001b[0m\u001b[0;34m)\u001b[0m\u001b[0;34m\u001b[0m\u001b[0;34m\u001b[0m\u001b[0m\n\u001b[0m\u001b[1;32m      8\u001b[0m     \u001b[0mcf_list\u001b[0m\u001b[0;34m.\u001b[0m\u001b[0mappend\u001b[0m\u001b[0;34m(\u001b[0m\u001b[0mCF\u001b[0m\u001b[0;34m.\u001b[0m\u001b[0menemy\u001b[0m\u001b[0;34m)\u001b[0m\u001b[0;34m\u001b[0m\u001b[0;34m\u001b[0m\u001b[0m\n\u001b[1;32m      9\u001b[0m     \u001b[0mcnt\u001b[0m \u001b[0;34m+=\u001b[0m \u001b[0;36m1\u001b[0m\u001b[0;34m\u001b[0m\u001b[0;34m\u001b[0m\u001b[0m\n",
      "\u001b[0;32m~/Documents/research/articles/counterfactuals/growingspheres/growingspheres/growingspheres/counterfactuals.py\u001b[0m in \u001b[0;36mfit\u001b[0;34m(self, caps, n_in_layer, layer_shape, first_radius, dicrease_radius, sparse, verbose)\u001b[0m\n\u001b[1;32m     43\u001b[0m                 \u001b[0msparse\u001b[0m\u001b[0;34m,\u001b[0m\u001b[0;34m\u001b[0m\u001b[0;34m\u001b[0m\u001b[0m\n\u001b[1;32m     44\u001b[0m                 verbose)\n\u001b[0;32m---> 45\u001b[0;31m         \u001b[0mself\u001b[0m\u001b[0;34m.\u001b[0m\u001b[0menemy\u001b[0m \u001b[0;34m=\u001b[0m \u001b[0mcf\u001b[0m\u001b[0;34m.\u001b[0m\u001b[0mfind_counterfactual\u001b[0m\u001b[0;34m(\u001b[0m\u001b[0;34m)\u001b[0m\u001b[0;34m\u001b[0m\u001b[0;34m\u001b[0m\u001b[0m\n\u001b[0m\u001b[1;32m     46\u001b[0m         \u001b[0mself\u001b[0m\u001b[0;34m.\u001b[0m\u001b[0me_star\u001b[0m \u001b[0;34m=\u001b[0m \u001b[0mcf\u001b[0m\u001b[0;34m.\u001b[0m\u001b[0me_star\u001b[0m\u001b[0;34m\u001b[0m\u001b[0;34m\u001b[0m\u001b[0m\n\u001b[1;32m     47\u001b[0m         \u001b[0mself\u001b[0m\u001b[0;34m.\u001b[0m\u001b[0mmove\u001b[0m \u001b[0;34m=\u001b[0m \u001b[0mself\u001b[0m\u001b[0;34m.\u001b[0m\u001b[0menemy\u001b[0m \u001b[0;34m-\u001b[0m \u001b[0mself\u001b[0m\u001b[0;34m.\u001b[0m\u001b[0mobs_to_interprete\u001b[0m\u001b[0;34m\u001b[0m\u001b[0;34m\u001b[0m\u001b[0m\n",
      "\u001b[0;32m~/Documents/research/articles/counterfactuals/growingspheres/growingspheres/growingspheres/growingspheres.py\u001b[0m in \u001b[0;36mfind_counterfactual\u001b[0;34m(self)\u001b[0m\n\u001b[1;32m     57\u001b[0m         \u001b[0mFinds\u001b[0m \u001b[0mthe\u001b[0m \u001b[0mdecision\u001b[0m \u001b[0mborder\u001b[0m \u001b[0mthen\u001b[0m \u001b[0mperform\u001b[0m \u001b[0mprojections\u001b[0m \u001b[0mto\u001b[0m \u001b[0mmake\u001b[0m \u001b[0mthe\u001b[0m \u001b[0mexplanation\u001b[0m \u001b[0msparse\u001b[0m\u001b[0;34m.\u001b[0m\u001b[0;34m\u001b[0m\u001b[0;34m\u001b[0m\u001b[0m\n\u001b[1;32m     58\u001b[0m         \"\"\"\n\u001b[0;32m---> 59\u001b[0;31m         \u001b[0mennemies_\u001b[0m \u001b[0;34m=\u001b[0m \u001b[0mself\u001b[0m\u001b[0;34m.\u001b[0m\u001b[0mexploration\u001b[0m\u001b[0;34m(\u001b[0m\u001b[0;34m)\u001b[0m\u001b[0;34m\u001b[0m\u001b[0;34m\u001b[0m\u001b[0m\n\u001b[0m\u001b[1;32m     60\u001b[0m         closest_ennemy_ = sorted(ennemies_, \n\u001b[1;32m     61\u001b[0m                                  key= lambda x: pairwise_distances(self.obs_to_interprete.reshape(1, -1), x.reshape(1, -1)))[0] \n",
      "\u001b[0;32m~/Documents/research/articles/counterfactuals/growingspheres/growingspheres/growingspheres/growingspheres.py\u001b[0m in \u001b[0;36mexploration\u001b[0;34m(self)\u001b[0m\n\u001b[1;32m     82\u001b[0m             \u001b[0;32melse\u001b[0m\u001b[0;34m:\u001b[0m\u001b[0;34m\u001b[0m\u001b[0;34m\u001b[0m\u001b[0m\n\u001b[1;32m     83\u001b[0m                 raise ValueError(\"layer_shape parameter should be either 'ball' (default) or 'sphere'\")\"\"\"\n\u001b[0;32m---> 84\u001b[0;31m             \u001b[0mfirst_layer_\u001b[0m \u001b[0;34m=\u001b[0m \u001b[0mself\u001b[0m\u001b[0;34m.\u001b[0m\u001b[0mennemies_in_layer_\u001b[0m\u001b[0;34m(\u001b[0m\u001b[0mradius\u001b[0m\u001b[0;34m=\u001b[0m\u001b[0mradius_\u001b[0m\u001b[0;34m,\u001b[0m \u001b[0mcaps\u001b[0m\u001b[0;34m=\u001b[0m\u001b[0mself\u001b[0m\u001b[0;34m.\u001b[0m\u001b[0mcaps\u001b[0m\u001b[0;34m,\u001b[0m \u001b[0mn\u001b[0m\u001b[0;34m=\u001b[0m\u001b[0mself\u001b[0m\u001b[0;34m.\u001b[0m\u001b[0mn_in_layer\u001b[0m\u001b[0;34m,\u001b[0m \u001b[0mfirst_layer\u001b[0m\u001b[0;34m=\u001b[0m\u001b[0;32mTrue\u001b[0m\u001b[0;34m)\u001b[0m\u001b[0;34m\u001b[0m\u001b[0;34m\u001b[0m\u001b[0m\n\u001b[0m\u001b[1;32m     85\u001b[0m \u001b[0;34m\u001b[0m\u001b[0m\n\u001b[1;32m     86\u001b[0m             \u001b[0mn_ennemies_\u001b[0m \u001b[0;34m=\u001b[0m \u001b[0mfirst_layer_\u001b[0m\u001b[0;34m.\u001b[0m\u001b[0mshape\u001b[0m\u001b[0;34m[\u001b[0m\u001b[0;36m0\u001b[0m\u001b[0;34m]\u001b[0m\u001b[0;34m\u001b[0m\u001b[0;34m\u001b[0m\u001b[0m\n",
      "\u001b[0;32m~/Documents/research/articles/counterfactuals/growingspheres/growingspheres/growingspheres/growingspheres.py\u001b[0m in \u001b[0;36mennemies_in_layer_\u001b[0;34m(self, segment, radius, caps, n, first_layer)\u001b[0m\n\u001b[1;32m    118\u001b[0m         \"\"\"\n\u001b[1;32m    119\u001b[0m         \u001b[0;32mif\u001b[0m \u001b[0mfirst_layer\u001b[0m\u001b[0;34m:\u001b[0m\u001b[0;34m\u001b[0m\u001b[0;34m\u001b[0m\u001b[0m\n\u001b[0;32m--> 120\u001b[0;31m             \u001b[0mlayer\u001b[0m \u001b[0;34m=\u001b[0m \u001b[0mgenerate_ball\u001b[0m\u001b[0;34m(\u001b[0m\u001b[0mself\u001b[0m\u001b[0;34m.\u001b[0m\u001b[0mobs_to_interprete\u001b[0m\u001b[0;34m,\u001b[0m \u001b[0mradius\u001b[0m\u001b[0;34m,\u001b[0m \u001b[0mn\u001b[0m\u001b[0;34m)\u001b[0m\u001b[0;34m\u001b[0m\u001b[0;34m\u001b[0m\u001b[0m\n\u001b[0m\u001b[1;32m    121\u001b[0m         \u001b[0;32melse\u001b[0m\u001b[0;34m:\u001b[0m\u001b[0;34m\u001b[0m\u001b[0;34m\u001b[0m\u001b[0m\n\u001b[1;32m    122\u001b[0m             \u001b[0;32mif\u001b[0m \u001b[0mself\u001b[0m\u001b[0;34m.\u001b[0m\u001b[0mlayer_shape\u001b[0m \u001b[0;34m==\u001b[0m \u001b[0;34m'ball'\u001b[0m\u001b[0;34m:\u001b[0m\u001b[0;34m\u001b[0m\u001b[0;34m\u001b[0m\u001b[0m\n",
      "\u001b[0;32m~/Documents/research/articles/counterfactuals/growingspheres/growingspheres/growingspheres/utils/gs_utils.py\u001b[0m in \u001b[0;36mgenerate_ball\u001b[0;34m(center, segment, n)\u001b[0m\n\u001b[1;32m     24\u001b[0m     \u001b[0;32mdef\u001b[0m \u001b[0mnorm\u001b[0m\u001b[0;34m(\u001b[0m\u001b[0mv\u001b[0m\u001b[0;34m)\u001b[0m\u001b[0;34m:\u001b[0m\u001b[0;34m\u001b[0m\u001b[0;34m\u001b[0m\u001b[0m\n\u001b[1;32m     25\u001b[0m         \u001b[0;32mreturn\u001b[0m \u001b[0mnp\u001b[0m\u001b[0;34m.\u001b[0m\u001b[0mlinalg\u001b[0m\u001b[0;34m.\u001b[0m\u001b[0mnorm\u001b[0m\u001b[0;34m(\u001b[0m\u001b[0mv\u001b[0m\u001b[0;34m,\u001b[0m \u001b[0mord\u001b[0m\u001b[0;34m=\u001b[0m\u001b[0;36m2\u001b[0m\u001b[0;34m,\u001b[0m \u001b[0maxis\u001b[0m\u001b[0;34m=\u001b[0m\u001b[0;36m1\u001b[0m\u001b[0;34m)\u001b[0m\u001b[0;34m\u001b[0m\u001b[0;34m\u001b[0m\u001b[0m\n\u001b[0;32m---> 26\u001b[0;31m     \u001b[0md\u001b[0m \u001b[0;34m=\u001b[0m \u001b[0mcenter\u001b[0m\u001b[0;34m.\u001b[0m\u001b[0mshape\u001b[0m\u001b[0;34m[\u001b[0m\u001b[0;36m1\u001b[0m\u001b[0;34m]\u001b[0m\u001b[0;34m\u001b[0m\u001b[0;34m\u001b[0m\u001b[0m\n\u001b[0m\u001b[1;32m     27\u001b[0m     \u001b[0mu\u001b[0m \u001b[0;34m=\u001b[0m \u001b[0mnp\u001b[0m\u001b[0;34m.\u001b[0m\u001b[0mrandom\u001b[0m\u001b[0;34m.\u001b[0m\u001b[0mnormal\u001b[0m\u001b[0;34m(\u001b[0m\u001b[0;36m0\u001b[0m\u001b[0;34m,\u001b[0m\u001b[0;36m1\u001b[0m\u001b[0;34m,\u001b[0m\u001b[0;34m(\u001b[0m\u001b[0mn\u001b[0m\u001b[0;34m,\u001b[0m \u001b[0md\u001b[0m\u001b[0;34m+\u001b[0m\u001b[0;36m2\u001b[0m\u001b[0;34m)\u001b[0m\u001b[0;34m)\u001b[0m  \u001b[0;31m# an array of (d+2) normally distributed random variables\u001b[0m\u001b[0;34m\u001b[0m\u001b[0;34m\u001b[0m\u001b[0m\n\u001b[1;32m     28\u001b[0m     \u001b[0mnorm_\u001b[0m \u001b[0;34m=\u001b[0m \u001b[0mnorm\u001b[0m\u001b[0;34m(\u001b[0m\u001b[0mu\u001b[0m\u001b[0;34m)\u001b[0m\u001b[0;34m\u001b[0m\u001b[0;34m\u001b[0m\u001b[0m\n",
      "\u001b[0;31mIndexError\u001b[0m: tuple index out of range"
     ]
    }
   ],
   "source": [
    "cf_list = []\n",
    "cnt = 0\n",
    "X_test_class0 = X_test[np.where(y_test == 0)]\n",
    "for obs in X_test_class0:\n",
    "    print('====================================================', cnt)\n",
    "    CF = cf.CounterfactualExplanation(obs, clf.predict, method='GS')\n",
    "    CF.fit(n_in_layer=2000, first_radius=0.1, dicrease_radius=10, sparse=True, verbose=True)\n",
    "    cf_list.append(CF.enemy)\n",
    "    cnt += 1\n",
    "cf_list = np.array(cf_list) \n",
    "\n",
    "plot_classification_contour(X_test, clf)\n",
    "plt.scatter(X_test_class0[:, 0], X_test_class0[:, 1], marker='o', edgecolors='k', alpha=0.9, color='red')\n",
    "plt.scatter(cf_list[:, 0], cf_list[:, 1], marker='o', edgecolors='k', alpha=0.9, color='green')\n",
    "plt.title('Test instances (red) and their generated counterfactuals (green)')\n",
    "plt.tight_layout()"
   ]
  },
  {
   "cell_type": "markdown",
   "metadata": {},
   "source": [
    "# Distance and sparsity over datasets"
   ]
  },
  {
   "cell_type": "code",
   "execution_count": 2,
   "metadata": {},
   "outputs": [
    {
     "name": "stdout",
     "output_type": "stream",
     "text": [
      "X_test shape: (20, 2)\n",
      " ### Accuracy: 1.0\n"
     ]
    }
   ],
   "source": [
    "import numpy as np\n",
    "import pandas as pd\n",
    "from sklearn import datasets, ensemble, tree\n",
    "from sklearn.model_selection import train_test_split\n",
    "from sklearn.svm import SVC\n",
    "from matplotlib import pyplot as plt\n",
    "import xgboost as xgb\n",
    "\n",
    "X,y = datasets.make_moons(n_samples = 200, shuffle=True, noise=0.05, random_state=0)\n",
    "\n",
    "'''ONLINE NEWS POPULARITY'''\n",
    "# df = pd.read_csv('datasets/newspopularity.csv', header=0, nrows=10000)\n",
    "\"\"\"df = datasets.fetch_openml(data_id=4545)\n",
    "data = df.data[:10000, :]\n",
    "y = df.target[:10000]\n",
    "y = np.array([int(x>=1400) for x in y])\n",
    "print(df.feature_names[2:-1])\n",
    "X = np.array(data[:, 2:-1])\"\"\"\n",
    "\n",
    "X = (X.copy() - X.mean(axis=0))/X.std(axis=0)\n",
    "X_train, X_test, y_train, y_test = train_test_split(X, y, test_size=0.1, random_state=0)\n",
    "\n",
    "print('X_test shape:', X_test.shape)\n",
    "\n",
    "\n",
    "\n",
    "clf = ensemble.RandomForestClassifier(n_estimators=200, max_depth=None, n_jobs=-1)\n",
    "clf = clf.fit(X_train, y_train)\n",
    "print(' ### Accuracy:', sum(clf.predict(X_test) == y_test)/y_test.shape[0])\n",
    "\n",
    "def plot_classification_contour(X, clf, ax=[0,1]):\n",
    "    ## Inspired by scikit-learn documentation\n",
    "    h = .02  # step size in the mesh\n",
    "    cm = plt.cm.RdBu\n",
    "    x_min, x_max = X[:, ax[0]].min() - .5, X[:, ax[0]].max() + .5\n",
    "    y_min, y_max = X[:, ax[1]].min() - .5, X[:, ax[1]].max() + .5\n",
    "    xx, yy = np.meshgrid(np.arange(x_min, x_max, h), np.arange(y_min, y_max, h))\n",
    "    Z = clf.predict_proba(np.c_[xx.ravel(), yy.ravel()])[:, 1]\n",
    "    Z = Z.reshape(xx.shape)\n",
    "    #plt.sca(ax)\n",
    "    plt.contourf(xx, yy, Z, alpha=.5, cmap=cm)\n",
    " "
   ]
  },
  {
   "cell_type": "code",
   "execution_count": 3,
   "metadata": {
    "scrolled": true
   },
   "outputs": [
    {
     "name": "stdout",
     "output_type": "stream",
     "text": [
      "[1]\n"
     ]
    },
    {
     "ename": "NameError",
     "evalue": "name 'get_CF' is not defined",
     "output_type": "error",
     "traceback": [
      "\u001b[0;31m---------------------------------------------------------------------------\u001b[0m",
      "\u001b[0;31mNameError\u001b[0m                                 Traceback (most recent call last)",
      "\u001b[0;32m<timed exec>\u001b[0m in \u001b[0;36m<module>\u001b[0;34m\u001b[0m\n",
      "\u001b[0;31mNameError\u001b[0m: name 'get_CF' is not defined"
     ]
    }
   ],
   "source": [
    "%%time\n",
    "idx = 100\n",
    "obs_to_interprete = X[idx]\n",
    "print(clf.predict(X[idx].reshape(1, -1)))\n",
    "def get_closest_enemy(obs):\n",
    "    enemies = X_test[np.where((y_test != clf.predict(obs.reshape(1,-1))) & (y_test == clf.predict(X_test)))]\n",
    "    idx, dist = metrics.pairwise_distances_argmin_min(obs.reshape(1,-1), enemies)\n",
    "    return dist\n",
    "\n",
    "from sklearn import metrics\n",
    "x, e_tilde, e_f =get_CF(obs_to_interprete, n_in_layer=10000, first_radius=0.1, dicrease_radius=100)\n",
    "\n",
    "print((e_f - x != 0).sum())"
   ]
  },
  {
   "cell_type": "code",
   "execution_count": null,
   "metadata": {},
   "outputs": [],
   "source": [
    "\n",
    "def get_CF_distances(obs, n_in_layer=10000, first_radius=0.1, dicrease_radius=10, sparse=True):\n",
    "    CF = cf.CounterfactualExplanation(obs, clf.predict, method='GS')\n",
    "    CF.fit(n_in_layer=n_in_layer, first_radius=first_radius, dicrease_radius=dicrease_radius, sparse=sparse,\n",
    "           verbose=False)\n",
    "    out = CF.distances()\n",
    "    l2, l0 = out['euclidean'], out['sparsity']\n",
    "    return l2, l0\n",
    "\n",
    "def get_CF(obs, n_in_layer=2000, first_radius=0.1, dicrease_radius=10, sparse=True):\n",
    "    CF = cf.CounterfactualExplanation(obs, clf.predict, method='GS')\n",
    "    CF.fit(n_in_layer=n_in_layer, first_radius=first_radius, dicrease_radius=dicrease_radius, sparse=sparse,\n",
    "           verbose=False)\n",
    "    e_tilde = CF.e_star\n",
    "    e_f = CF.enemy\n",
    "    return obs, e_tilde, e_f\n",
    "    \n",
    "    \n",
    "def iterate_gs_dataset(n_in_layer=2000, first_radius=0.1, dicrease_radius=10, sparse=True):\n",
    "    l2_list, l0_list = [], []\n",
    "    cnt = 0\n",
    "    for obs in X_test[:10, :]:\n",
    "        print('====================================================', cnt)\n",
    "        l2, l0 = get_CF(obs, n_in_layer=n_in_layer, \n",
    "                               first_radius=first_radius, \n",
    "                               dicrease_radius=dicrease_radius, \n",
    "                               sparse=sparse)\n",
    "        l2_list.append(l2)\n",
    "        l0_list.append(l0)\n",
    "        cnt += 1\n",
    "    return l2_list, l0_list   "
   ]
  },
  {
   "cell_type": "code",
   "execution_count": 41,
   "metadata": {
    "scrolled": true
   },
   "outputs": [
    {
     "name": "stdout",
     "output_type": "stream",
     "text": [
      "variable:   kw_avg_avg\n",
      "initial value: 0.6404847169874107\n",
      "move:\n",
      "0.0943305976495755\n",
      "variable:   self_reference_min_shares\n",
      "initial value: -0.034209598523858666\n",
      "move:\n",
      "-0.05398286731284633\n",
      "variable:   self_reference_max_shares\n",
      "initial value: -0.13921057362681094\n",
      "move:\n",
      "0.059595624879460886\n",
      "variable:   self_reference_avg_sharess\n",
      "initial value: -0.10316992834653013\n",
      "move:\n",
      "0.03999341525525414\n",
      "variable:   LDA_00\n",
      "initial value: -0.6139198409926339\n",
      "move:\n",
      "-0.05169736390320836\n",
      "variable:   LDA_01\n",
      "initial value: -0.5025852810983442\n",
      "move:\n",
      "0.03392571313722337\n",
      "variable:   LDA_02\n",
      "initial value: -0.5514977945330819\n",
      "move:\n",
      "-0.023401785374593656\n",
      "variable:   LDA_03\n",
      "initial value: 2.294903902435056\n",
      "move:\n",
      "0.011497417382422465\n",
      "variable:   LDA_04\n",
      "initial value: -0.7530089672204197\n",
      "move:\n",
      "-0.02420401681702647\n",
      "variable:   abs_title_subjectivity\n",
      "initial value: -1.6336156583986412\n",
      "move:\n",
      "0.00967913729039352\n",
      "===================\n",
      "[(' kw_avg_avg', 0.09439413804521568), (' self_reference_min_shares', -0.062334947334881395), (' LDA_00', -0.05532123856645299), (' self_reference_max_shares', 0.05055634244329413), (' self_reference_avg_sharess', 0.04355919649289395), (' LDA_01', 0.040724864688457096), (' LDA_04', -0.023157765623279092), (' LDA_02', -0.021165896195315836), (' abs_title_subjectivity', 0.011812505550350627), (' LDA_03', 0.010557375357047594), (' n_tokens_title', 0.0), (' n_tokens_content', 0.0), (' n_unique_tokens', 0.0), (' n_non_stop_words', 0.0), (' n_non_stop_unique_tokens', 0.0), (' num_hrefs', 0.0), (' num_self_hrefs', 0.0), (' num_imgs', 0.0), (' num_videos', 0.0), (' average_token_length', 0.0), (' num_keywords', 0.0), (' data_channel_is_lifestyle', 0.0), (' data_channel_is_entertainment', 0.0), (' data_channel_is_bus', 0.0), (' data_channel_is_socmed', 0.0), (' data_channel_is_tech', 0.0), (' data_channel_is_world', 0.0), (' kw_min_min', 0.0), (' kw_max_min', 0.0), (' kw_avg_min', 0.0), (' kw_min_max', 0.0), (' kw_max_max', 0.0), (' kw_avg_max', 0.0), (' kw_min_avg', 0.0), (' kw_max_avg', 0.0), (' weekday_is_monday', 0.0), (' weekday_is_tuesday', 0.0), (' weekday_is_wednesday', 0.0), (' weekday_is_thursday', 0.0), (' weekday_is_friday', 0.0), (' weekday_is_saturday', 0.0), (' weekday_is_sunday', 0.0), (' is_weekend', 0.0), (' global_subjectivity', 0.0), (' global_sentiment_polarity', 0.0), (' global_rate_positive_words', 0.0), (' global_rate_negative_words', 0.0), (' rate_positive_words', 0.0), (' rate_negative_words', 0.0), (' avg_positive_polarity', 0.0), (' min_positive_polarity', 0.0), (' max_positive_polarity', 0.0), (' avg_negative_polarity', 0.0), (' min_negative_polarity', 0.0), (' max_negative_polarity', 0.0), (' title_subjectivity', 0.0), (' title_sentiment_polarity', 0.0)]\n"
     ]
    }
   ],
   "source": [
    "#vars_ = ['crim', 'zn', 'indus','chas', 'nox', 'rm', 'age', 'dis', 'rad', 'tax', 'ptratio', 'black', 'lstat']\n",
    "vars_ = [' n_tokens_title', ' n_tokens_content', ' n_unique_tokens',\n",
    "       ' n_non_stop_words', ' n_non_stop_unique_tokens', ' num_hrefs',\n",
    "       ' num_self_hrefs', ' num_imgs', ' num_videos', ' average_token_length',\n",
    "       ' num_keywords', ' data_channel_is_lifestyle',\n",
    "       ' data_channel_is_entertainment', ' data_channel_is_bus',\n",
    "       ' data_channel_is_socmed', ' data_channel_is_tech',\n",
    "       ' data_channel_is_world', ' kw_min_min', ' kw_max_min', ' kw_avg_min',\n",
    "       ' kw_min_max', ' kw_max_max', ' kw_avg_max', ' kw_min_avg',\n",
    "       ' kw_max_avg', ' kw_avg_avg', ' self_reference_min_shares',\n",
    "       ' self_reference_max_shares', ' self_reference_avg_sharess',\n",
    "       ' weekday_is_monday', ' weekday_is_tuesday', ' weekday_is_wednesday',\n",
    "       ' weekday_is_thursday', ' weekday_is_friday', ' weekday_is_saturday',\n",
    "       ' weekday_is_sunday', ' is_weekend', ' LDA_00', ' LDA_01', ' LDA_02',\n",
    "       ' LDA_03', ' LDA_04', ' global_subjectivity',\n",
    "       ' global_sentiment_polarity', ' global_rate_positive_words',\n",
    "       ' global_rate_negative_words', ' rate_positive_words',\n",
    "       ' rate_negative_words', ' avg_positive_polarity',\n",
    "       ' min_positive_polarity', ' max_positive_polarity',\n",
    "       ' avg_negative_polarity', ' min_negative_polarity',\n",
    "       ' max_negative_polarity', ' title_subjectivity',\n",
    "       ' title_sentiment_polarity', ' abs_title_subjectivity',\n",
    "       ' abs_title_sentiment_polarity']\n",
    "\n",
    "\n",
    "for dvar, coord in list(zip(enumerate(vars_), e_f - x)):\n",
    "    \n",
    "    if coord!=0:\n",
    "        print('variable: ', dvar[1])\n",
    "        print('initial value:', X[idx, dvar[0]])\n",
    "        print('move:')\n",
    "        print(coord * X[dvar[0]].std())\n",
    "print('===================')\n",
    "print(sorted(list(zip(vars_, e_f - x)), key=lambda x: -abs(x[1])))\n",
    "        "
   ]
  },
  {
   "cell_type": "markdown",
   "metadata": {},
   "source": [
    "# Out of distribution CF"
   ]
  },
  {
   "cell_type": "code",
   "execution_count": 64,
   "metadata": {},
   "outputs": [
    {
     "name": "stderr",
     "output_type": "stream",
     "text": [
      "/usr/lib/python3/dist-packages/sklearn/model_selection/_split.py:2179: FutureWarning: From version 0.21, test_size will always complement train_size unless both are specified.\n",
      "  FutureWarning)\n"
     ]
    },
    {
     "name": "stdout",
     "output_type": "stream",
     "text": [
      "(120, 2) (30, 2)\n"
     ]
    },
    {
     "data": {
      "image/png": "[encoded data removed]",
      "text/plain": [
       "<Figure size 432x288 with 1 Axes>"
      ]
     },
     "metadata": {
      "needs_background": "light"
     },
     "output_type": "display_data"
    }
   ],
   "source": [
    "import numpy as np\n",
    "import pandas as pd\n",
    "from sklearn import datasets, ensemble\n",
    "from sklearn.model_selection import train_test_split\n",
    "from matplotlib import pyplot as plt\n",
    "from exploration import counterfactuals as cf\n",
    "from sklearn.svm import SVC\n",
    "\n",
    "PATH = ''\n",
    "\n",
    "\n",
    "def make_meshgrid(x, y, h=.02):\n",
    "    \"\"\"Create a mesh of points to plot in\n",
    "\n",
    "    Parameters\n",
    "    ----------\n",
    "    x: data to base x-axis meshgrid on\n",
    "    y: data to base y-axis meshgrid on\n",
    "    h: stepsize for meshgrid, optional\n",
    "\n",
    "    Returns\n",
    "    -------\n",
    "    xx, yy : ndarray\n",
    "    \"\"\"\n",
    "    x_min, x_max = x.min() - 1, x.max() + 1\n",
    "    y_min, y_max = y.min() - 1, y.max() + 1\n",
    "    xx, yy = np.meshgrid(np.arange(x_min, x_max, h),\n",
    "                         np.arange(y_min, y_max, h))\n",
    "    return xx, yy\n",
    "\n",
    "def plot_contours(ax, clf, xx, yy, **params):\n",
    "    \"\"\"Plot the decision boundaries for a classifier.\n",
    "\n",
    "    Parameters\n",
    "    ----------\n",
    "    ax: matplotlib axes object\n",
    "    clf: a classifier\n",
    "    xx: meshgrid ndarray\n",
    "    yy: meshgrid ndarray\n",
    "    params: dictionary of params to pass to contourf, optional\n",
    "    \"\"\"\n",
    "    Z = clf.predict(np.c_[xx.ravel(), yy.ravel()])\n",
    "    Z = Z.reshape(xx.shape)\n",
    "    out = ax.contourf(xx, yy, Z, **params)\n",
    "    return out\n",
    "\n",
    "def get_CF(obs, n_in_layer=2000, first_radius=0.1, dicrease_radius=10, sparse=True, target_class=None):\n",
    "    CF = cf.CounterfactualExplanation(obs, clf.predict, method='GS', target_class=target_class)\n",
    "    CF.fit(n_in_layer=n_in_layer, first_radius=first_radius, dicrease_radius=dicrease_radius, sparse=sparse,\n",
    "           verbose=False)\n",
    "    print('target class', CF.target_class)\n",
    "    e_tilde = CF.e_star\n",
    "    e_f = CF.enemy\n",
    "    return obs, e_tilde, e_f\n",
    "    \n",
    "\n",
    "\n",
    "\n",
    "# import some data to play with\n",
    "iris = datasets.load_iris()\n",
    "# Take the first two features. We could avoid this by using a two-dim dataset\n",
    "X = iris.data[:, :2]\n",
    "y = iris.target\n",
    "X = (X.copy() - X.mean(axis=0))/X.std(axis=0)\n",
    "\n",
    "X_train, X_test, y_train, y_test = train_test_split(X, y, train_size=0.8, random_state=0)\n",
    "print(X_train.shape, X_test.shape)\n",
    "clf = SVC(C=1.0, gamma=1.0, probability=True).fit(X_train, y_train)\n",
    "\n",
    "\n",
    "fig, ax = plt.subplots()\n",
    "\n",
    "X0, X1 = X_train[:, 0], X_train[:, 1]\n",
    "xx, yy = make_meshgrid(X0, X1)\n",
    "plot_contours(ax, clf, xx, yy,\n",
    "                  cmap=plt.cm.coolwarm, alpha=0.6)\n",
    "ax.scatter(X0, X1, c=y_train, cmap=plt.cm.coolwarm, s=20, edgecolors='k')\n",
    "plt.show()\n",
    "\n"
   ]
  },
  {
   "cell_type": "code",
   "execution_count": 62,
   "metadata": {
    "scrolled": true
   },
   "outputs": [
    {
     "name": "stdout",
     "output_type": "stream",
     "text": [
      "target class 2\n"
     ]
    }
   ],
   "source": [
    "obs_to_interprete = np.array([-1.1, 2.1])# X_test[2]\n",
    "_, _, CF = get_CF(obs_to_interprete, n_in_layer=1000, first_radius=0.1, dicrease_radius=100.0, target_class=2)\n"
   ]
  },
  {
   "cell_type": "code",
   "execution_count": 65,
   "metadata": {},
   "outputs": [
    {
     "data": {
      "image/png": "[encoded data removed]",
      "text/plain": [
       "<Figure size 432x288 with 1 Axes>"
      ]
     },
     "metadata": {
      "needs_background": "light"
     },
     "output_type": "display_data"
    }
   ],
   "source": [
    "\n",
    "AX1, AX2 = 0, 1\n",
    "fig, ax = plt.subplots()\n",
    "\n",
    "X0, X1 = X_train[:, 0], X_train[:, 1]\n",
    "xx, yy = make_meshgrid(X0, X1)\n",
    "\n",
    "plot_contours(ax, clf, xx, yy,\n",
    "                  cmap=plt.cm.coolwarm, alpha=0.6)\n",
    "#plt.scatter(X_train[:, AX1], X_train[:, AX2], color=[['red', 'blue', 'green'][x] for x in y_train], alpha=0.3, marker='+')\n",
    "ax.scatter(X0, X1, c=y_train, cmap=plt.cm.coolwarm, s=20, edgecolors='k')\n",
    "\n",
    "ax.scatter(obs_to_interprete[AX1], obs_to_interprete[AX2], color='yellow', s=100, edgecolors='k')\n",
    "ax.scatter(CF[AX1], CF[AX2], color='green', s=70, edgecolors='k')\n",
    "fig.tight_layout()\n",
    "plt.savefig(PATH + 'discussion_iris.pdf', bbox_inches='tight')\n",
    "plt.show()"
   ]
  }
 ],
 "metadata": {
  "kernelspec": {
   "display_name": "Python 3 (ipykernel)",
   "language": "python",
   "name": "python3"
  },
  "language_info": {
   "codemirror_mode": {
    "name": "ipython",
    "version": 3
   },
   "file_extension": ".py",
   "mimetype": "text/x-python",
   "name": "python",
   "nbconvert_exporter": "python",
   "pygments_lexer": "ipython3",
   "version": "3.9.7"
  }
 },
 "nbformat": 4,
 "nbformat_minor": 2
}
